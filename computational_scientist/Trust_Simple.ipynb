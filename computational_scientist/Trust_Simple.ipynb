{
  "nbformat": 4,
  "nbformat_minor": 0,
  "metadata": {
    "colab": {
      "provenance": []
    },
    "kernelspec": {
      "name": "python3",
      "display_name": "Python 3"
    },
    "language_info": {
      "name": "python"
    }
  },
  "cells": [
    {
      "cell_type": "code",
      "source": [
        "!pip install nashpy\n",
        "\n",
        "import nashpy as nash\n",
        "import numpy as np\n",
        "\n",
        "# -----------------------------\n",
        "# Trust Game setup (Multiplier = 3)\n",
        "# Player A (Investor): invest 0, 50, 100\n",
        "# Player B (Trustee): return 0%, 50%, 100% of tripled investment\n",
        "# -----------------------------\n",
        "\n",
        "# Payoff formula:\n",
        "# u_A = 100 - x + y\n",
        "# u_B = 3*x - y\n",
        "\n",
        "# Rows = A's strategies (0,50,100)\n",
        "# Columns = B's strategies (0%,50%,100% of 3x)\n",
        "\n",
        "# Manually compute payoffs for each cell\n",
        "A_payoffs = np.array([\n",
        "    [100, 100, 100],       # A invests 0\n",
        "    [50, 125, 200],        # A invests 50, B returns 0, 75, 150\n",
        "    [0, 150, 300]          # A invests 100, B returns 0, 150, 300\n",
        "])\n",
        "\n",
        "B_payoffs = np.array([\n",
        "    [0, 0, 0],             # A invests 0\n",
        "    [150, 75, 0],           # B payoff = 3*50 - y\n",
        "    [300, 150, 0]           # B payoff = 3*100 - y\n",
        "])\n",
        "\n",
        "# Create the normal-form game\n",
        "trust_game = nash.Game(A_payoffs, B_payoffs)\n",
        "print(\"Normal-form Trust Game (Multiplier=3):\")\n",
        "print(trust_game)\n",
        "\n",
        "# Compute Nash equilibria (pure and mixed)\n",
        "equilibria = list(trust_game.support_enumeration())\n",
        "\n",
        "print(\"\\nNash Equilibria (pure and mixed strategies):\")\n",
        "for eq in equilibria:\n",
        "    A_strategy, B_strategy = eq\n",
        "    print(\"Player A strategy:\", A_strategy)\n",
        "    print(\"Player B strategy:\", B_strategy)\n",
        "    print(\"---\")\n"
      ],
      "metadata": {
        "colab": {
          "base_uri": "https://localhost:8080/"
        },
        "id": "lVjfQ1BVaSg1",
        "outputId": "d4b5e404-295b-4a47-921e-71d5b0c2455f"
      },
      "execution_count": null,
      "outputs": [
        {
          "output_type": "stream",
          "name": "stdout",
          "text": [
            "Requirement already satisfied: nashpy in /usr/local/lib/python3.12/dist-packages (0.0.41)\n",
            "Requirement already satisfied: numpy>=1.21.0 in /usr/local/lib/python3.12/dist-packages (from nashpy) (2.0.2)\n",
            "Requirement already satisfied: scipy>=0.19.0 in /usr/local/lib/python3.12/dist-packages (from nashpy) (1.16.1)\n",
            "Requirement already satisfied: networkx>=3.0.0 in /usr/local/lib/python3.12/dist-packages (from nashpy) (3.5)\n",
            "Requirement already satisfied: deprecated>=1.2.14 in /usr/local/lib/python3.12/dist-packages (from nashpy) (1.2.18)\n",
            "Requirement already satisfied: wrapt<2,>=1.10 in /usr/local/lib/python3.12/dist-packages (from deprecated>=1.2.14->nashpy) (1.17.3)\n",
            "Normal-form Trust Game (Multiplier=3):\n",
            "Bi matrix game with payoff matrices:\n",
            "\n",
            "Row player:\n",
            "[[100 100 100]\n",
            " [ 50 125 200]\n",
            " [  0 150 300]]\n",
            "\n",
            "Column player:\n",
            "[[  0   0   0]\n",
            " [150  75   0]\n",
            " [300 150   0]]\n",
            "\n",
            "Nash Equilibria (pure and mixed strategies):\n",
            "Player A strategy: [1. 0. 0.]\n",
            "Player B strategy: [1. 0. 0.]\n",
            "---\n"
          ]
        }
      ]
    }
  ]
}