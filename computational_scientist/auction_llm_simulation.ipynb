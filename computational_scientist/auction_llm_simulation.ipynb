{
  "nbformat": 4,
  "nbformat_minor": 0,
  "metadata": {
    "colab": {
      "provenance": []
    },
    "kernelspec": {
      "name": "python3",
      "display_name": "Python 3"
    },
    "language_info": {
      "name": "python"
    }
  },
  "cells": [
    {
      "cell_type": "code",
      "execution_count": null,
      "metadata": {
        "id": "365i02N6TRn8"
      },
      "outputs": [],
      "source": [
        "!pip install nashpy\n",
        "\n",
        "import nashpy as nash\n",
        "import numpy as np\n",
        "import itertools\n",
        "\n",
        "# Two-player first-price auction simplified model\n",
        "# Each player can bid from {Low, High}\n",
        "\n",
        "# Payoff assumptions:\n",
        "# - If both bid the same: random tie, expected payoff = (valuation - bid)/2\n",
        "# - If one bids higher: winner pays their bid, loser payoff = 0\n",
        "\n",
        "valuation1, valuation2 = 100, 100\n",
        "bid_low, bid_high = 40, 70\n",
        "\n",
        "# Define payoffs manually:\n",
        "# Player 1 payoff matrix (rows), Player 2 payoff matrix (cols)\n",
        "# Actions: [Low, High]\n",
        "A = np.array([\n",
        "    [(valuation1 - bid_low)/2, 0],     # P1 plays Low\n",
        "    [valuation1 - bid_high, (valuation1 - bid_high)/2]  # P1 plays High\n",
        "])\n",
        "B = np.array([\n",
        "    [(valuation2 - bid_low)/2, valuation2 - bid_high],   # P2 plays Low\n",
        "    [0, (valuation2 - bid_high)/2]                       # P2 plays High\n",
        "])\n",
        "\n",
        "game = nash.Game(A, B)\n",
        "print(\"Payoff matrix for Player 1:\\n\", A)\n",
        "print(\"Payoff matrix for Player 2:\\n\", B)\n",
        "\n",
        "\n",
        "equilibria = list(game.support_enumeration())\n",
        "print(\"\\nComputed Nash Equilibria (probabilities for Player 1, Player 2):\")\n",
        "for eq in equilibria:\n",
        "    print(eq)\n",
        "\n",
        "# Simple interpretation printout\n",
        "for eq in equilibria:\n",
        "    p1, p2 = eq\n",
        "    print(f\"\\nInterpretation:\")\n",
        "    print(f\"  - Player 1 plays Low with probability {p1[0]:.2f}, High with {p1[1]:.2f}\")\n",
        "    print(f\"  - Player 2 plays Low with probability {p2[0]:.2f}, High with {p2[1]:.2f}\")\n"
      ]
    }
  ]
}